{
 "cells": [
  {
   "cell_type": "code",
   "execution_count": 1,
   "metadata": {},
   "outputs": [],
   "source": [
    "\n",
    "PATH = '/Users/sondonghyeob/Downloads/KakaoTalkChats-2.txt'"
   ]
  },
  {
   "cell_type": "code",
   "execution_count": 5,
   "metadata": {},
   "outputs": [],
   "source": [
    "dialogue_list = []\n",
    "\n",
    "with open(PATH, 'r', encoding='utf-8')as f:\n",
    "    dialogue_list = [line for line in f]"
   ]
  },
  {
   "cell_type": "code",
   "execution_count": 15,
   "metadata": {},
   "outputs": [
    {
     "name": "stdout",
     "output_type": "stream",
     "text": [
      "dialogue 길이67675\n",
      "time : 7:59, name : 이동형 chat : 아침부터 당황스럽노\n",
      "time : 8:02, name : 손누나 chat : ㅋㅋㅋㅋㅋㅋㅋㅋㅋㅋㅋㅋㅋㅋㅋㅋㅋㅋㅋㅋㅋㅋㅋㅋㅋㅋㅋㅋㅋㅋㅋㅋㅋㅋㅋㅋㅋㅋㅋㅋㅋㅋㅋㅋㅋㅋㅋㅋㅋㅋㅋㅋㅋ\n",
      "time : 8:02, name : 손누나 chat : 이거\n",
      "time : 8:02, name : 손누나 chat : 그 말딸?\n",
      "time : 8:02, name : 손누나 chat : 그건거 같은데 ㅋㅋㅋㅋㅋㅋㅋㅋㅋㅋ\n",
      "time : 8:04, name : 이동형 chat : 마초아저씨가 운전해서\n",
      "time : 8:04, name : 이동형 chat : 더당황 ㄷㅈ\n",
      "time : 8:10, name : 손누나 chat : ㅈ같노 ㅌㅋㅋㅋㅋㅋㅋㅌㅌㅌㅌ\n",
      "time : 10:33, name : 박희범 chat : 성혁 원랜디ㄱ?\n",
      "time : 10:36, name : 정재욱 chat : 무친넘아\n",
      "time : 10:36, name : 정재욱 chat : 원랜디에목숨걸었노\n",
      "time : 10:36, name : 박희범 chat : 수원가기전에\n",
      "time : 10:36, name : 박희범 chat : 기념으로 하는거지\n",
      "time : 10:46, name : 울작꼬 chat : ㄹㅇ 무친놈이네 저거\n",
      "time : 10:48, name : 이동형 chat : 원랜디 ㄱ\n",
      "time : 10:58, name : 손누나 chat : 원랜디 ㄱ\n",
      "time : 10:59, name : 울작꼬 chat : 니색기들 다 워크 켜라 시발\n",
      "time : 11:01, name : 이동형 chat : ㅠ\n",
      "time : 11:01, name : 박희범 chat : Zzzzㅋㅋㅋㅋ\n",
      "time : 11:38, name : 손누나 chat : 마뫄\n",
      "time : 11:39, name : 울작꼬 chat : 점심 머먹지\n",
      "time : 11:40, name : 손누나 chat : 목재\n",
      "time : 11:41, name : 박희범 chat : 이정도면\n",
      "time : 11:41, name : 박희범 chat : 수원오겠는데?\n",
      "time : 11:41, name : 박희범 chat : 동협이 조패러\n",
      "time : 11:43, name : 울작꼬 chat : ㄹㅇ 코로롱이고 뭐고 개죽여버려야겠는데?\n",
      "time : 11:48, name : 손누나 chat : 안오냐?\n"
     ]
    },
    {
     "ename": "KeyboardInterrupt",
     "evalue": "Interrupted by user",
     "output_type": "error",
     "traceback": [
      "\u001b[0;31m---------------------------------------------------------------------------\u001b[0m",
      "\u001b[0;31mKeyboardInterrupt\u001b[0m                         Traceback (most recent call last)",
      "Cell \u001b[0;32mIn[15], line 15\u001b[0m\n\u001b[1;32m     13\u001b[0m \u001b[39mif\u001b[39;00m chat \u001b[39m!=\u001b[39m \u001b[39m'\u001b[39m\u001b[39m사진\u001b[39m\u001b[39m'\u001b[39m \u001b[39mand\u001b[39;00m chat \u001b[39m!=\u001b[39m \u001b[39m'\u001b[39m\u001b[39m이모티콘\u001b[39m\u001b[39m'\u001b[39m \u001b[39mand\u001b[39;00m chat\u001b[39m.\u001b[39mfind(\u001b[39m'\u001b[39m\u001b[39mhttp\u001b[39m\u001b[39m'\u001b[39m) \u001b[39m==\u001b[39m \u001b[39m-\u001b[39m\u001b[39m1\u001b[39m:\n\u001b[1;32m     14\u001b[0m     \u001b[39mprint\u001b[39m(\u001b[39mf\u001b[39m\u001b[39m'\u001b[39m\u001b[39mtime : \u001b[39m\u001b[39m{\u001b[39;00mtime\u001b[39m}\u001b[39;00m\u001b[39m name : \u001b[39m\u001b[39m{\u001b[39;00mname\u001b[39m}\u001b[39;00m\u001b[39m chat : \u001b[39m\u001b[39m{\u001b[39;00mchat\u001b[39m}\u001b[39;00m\u001b[39m'\u001b[39m)\n\u001b[0;32m---> 15\u001b[0m     \u001b[39minput\u001b[39;49m()\n",
      "File \u001b[0;32m~/opt/anaconda3/envs/acer/lib/python3.9/site-packages/ipykernel/kernelbase.py:1182\u001b[0m, in \u001b[0;36mKernel.raw_input\u001b[0;34m(self, prompt)\u001b[0m\n\u001b[1;32m   1180\u001b[0m     msg \u001b[39m=\u001b[39m \u001b[39m\"\u001b[39m\u001b[39mraw_input was called, but this frontend does not support input requests.\u001b[39m\u001b[39m\"\u001b[39m\n\u001b[1;32m   1181\u001b[0m     \u001b[39mraise\u001b[39;00m StdinNotImplementedError(msg)\n\u001b[0;32m-> 1182\u001b[0m \u001b[39mreturn\u001b[39;00m \u001b[39mself\u001b[39;49m\u001b[39m.\u001b[39;49m_input_request(\n\u001b[1;32m   1183\u001b[0m     \u001b[39mstr\u001b[39;49m(prompt),\n\u001b[1;32m   1184\u001b[0m     \u001b[39mself\u001b[39;49m\u001b[39m.\u001b[39;49m_parent_ident[\u001b[39m\"\u001b[39;49m\u001b[39mshell\u001b[39;49m\u001b[39m\"\u001b[39;49m],\n\u001b[1;32m   1185\u001b[0m     \u001b[39mself\u001b[39;49m\u001b[39m.\u001b[39;49mget_parent(\u001b[39m\"\u001b[39;49m\u001b[39mshell\u001b[39;49m\u001b[39m\"\u001b[39;49m),\n\u001b[1;32m   1186\u001b[0m     password\u001b[39m=\u001b[39;49m\u001b[39mFalse\u001b[39;49;00m,\n\u001b[1;32m   1187\u001b[0m )\n",
      "File \u001b[0;32m~/opt/anaconda3/envs/acer/lib/python3.9/site-packages/ipykernel/kernelbase.py:1225\u001b[0m, in \u001b[0;36mKernel._input_request\u001b[0;34m(self, prompt, ident, parent, password)\u001b[0m\n\u001b[1;32m   1222\u001b[0m \u001b[39mexcept\u001b[39;00m \u001b[39mKeyboardInterrupt\u001b[39;00m:\n\u001b[1;32m   1223\u001b[0m     \u001b[39m# re-raise KeyboardInterrupt, to truncate traceback\u001b[39;00m\n\u001b[1;32m   1224\u001b[0m     msg \u001b[39m=\u001b[39m \u001b[39m\"\u001b[39m\u001b[39mInterrupted by user\u001b[39m\u001b[39m\"\u001b[39m\n\u001b[0;32m-> 1225\u001b[0m     \u001b[39mraise\u001b[39;00m \u001b[39mKeyboardInterrupt\u001b[39;00m(msg) \u001b[39mfrom\u001b[39;00m \u001b[39mNone\u001b[39m\n\u001b[1;32m   1226\u001b[0m \u001b[39mexcept\u001b[39;00m \u001b[39mException\u001b[39;00m:\n\u001b[1;32m   1227\u001b[0m     \u001b[39mself\u001b[39m\u001b[39m.\u001b[39mlog\u001b[39m.\u001b[39mwarning(\u001b[39m\"\u001b[39m\u001b[39mInvalid Message:\u001b[39m\u001b[39m\"\u001b[39m, exc_info\u001b[39m=\u001b[39m\u001b[39mTrue\u001b[39;00m)\n",
      "\u001b[0;31mKeyboardInterrupt\u001b[0m: Interrupted by user"
     ]
    }
   ],
   "source": [
    "misc = 0\n",
    "\n",
    "kakao_dict = {}\n",
    "\n",
    "print(f\"dialogue 길이{len(dialogue_list)}\")\n",
    "for line in dialogue_list[4:]:\n",
    "    if len(line.split(',')) == 1:\n",
    "        misc += 1\n",
    "    else:\n",
    "        lines = line.split(',')[1]\n",
    "        attr = lines.split(':')\n",
    "        time = line.split(' ')[4]\n",
    "        name = attr[0].strip()\n",
    "        chat = attr[1].strip()\n",
    "        if chat != '사진' and chat != '이모티콘' and chat.find('http') == -1:\n",
    "            kakao_dict['data'].append(['header']['dialogueInfo']['numberOfParticipants'] = 2)\n",
    "            episode = {}\n",
    "            episode['header']['dialogueInfo']['numberOfParticipants'] = 2\n",
    "            episode['body'] \n",
    "            print(f'time : {time} name : {name} chat : {chat}')\n",
    "            input()"
   ]
  }
 ],
 "metadata": {
  "kernelspec": {
   "display_name": "acer",
   "language": "python",
   "name": "python3"
  },
  "language_info": {
   "codemirror_mode": {
    "name": "ipython",
    "version": 3
   },
   "file_extension": ".py",
   "mimetype": "text/x-python",
   "name": "python",
   "nbconvert_exporter": "python",
   "pygments_lexer": "ipython3",
   "version": "3.9.16"
  },
  "orig_nbformat": 4,
  "vscode": {
   "interpreter": {
    "hash": "ec3556c8bd21016634930482fda18170b5209ac5f08de9d79950ee81aaa97a3c"
   }
  }
 },
 "nbformat": 4,
 "nbformat_minor": 2
}
