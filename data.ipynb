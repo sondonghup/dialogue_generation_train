{
 "cells": [
  {
   "attachments": {},
   "cell_type": "markdown",
   "metadata": {},
   "source": [
    "# dialogue generation data check"
   ]
  },
  {
   "cell_type": "code",
   "execution_count": 8,
   "metadata": {},
   "outputs": [],
   "source": [
    "import os\n",
    "import json\n",
    "\n",
    "train_file_path = '/Users/sondonghyeob/Downloads/SNS_ko/Training/SNS_ko_train/'\n",
    "valid_file_path = '/Users/sondonghyeob/Downloads/SNS_ko/Validation/SNS_ko_valid/'\n",
    "train_datas = os.listdir(train_file_path)\n",
    "valid_datas = os.listdir(valid_file_path)"
   ]
  },
  {
   "cell_type": "code",
   "execution_count": 11,
   "metadata": {},
   "outputs": [
    {
     "name": "stdout",
     "output_type": "stream",
     "text": [
      "['상거래(쇼핑).json', '식음료.json', '미용과건강.json', '여가생활.json', '시사교육.json', '일과직업.json', '개인및관계.json', '행사.json', '주거와생활.json']\n",
      "['상거래(쇼핑).json', '식음료.json', '미용과건강.json', '여가생활.json', '시사교육.json', '일과직업.json', '개인및관계.json', '행사.json', '주거와생활.json']\n"
     ]
    }
   ],
   "source": [
    "print(train_datas)\n",
    "print(valid_datas)"
   ]
  },
  {
   "cell_type": "code",
   "execution_count": 10,
   "metadata": {},
   "outputs": [
    {
     "name": "stdout",
     "output_type": "stream",
     "text": [
      "{'header': {'dialogueInfo': {'dialogueID': '029fe1d7-5509-5c8a-a080-3a72534964e3', 'numberOfParticipants': 2, 'numberOfUtterances': 17, 'numberOfTurns': 7, 'type': '일상 대화', 'topic': '상거래(쇼핑)'}, 'participantsInfo': [{'participantID': 'P01', 'gender': '여성', 'age': '20대', 'residentialProvince': '부산광역시'}, {'participantID': 'P02', 'gender': '여성', 'age': '20대', 'residentialProvince': '경기도'}]}, 'body': [{'utteranceID': 'U1', 'turnID': 'T1', 'participantID': 'P01', 'date': '2018-03-23', 'time': '14:32:00', 'utterance': '거기 비쌀까요??'}, {'utteranceID': 'U2', 'turnID': 'T2', 'participantID': 'P02', 'date': '2018-03-23', 'time': '14:35:00', 'utterance': '#@시스템#사진#'}, {'utteranceID': 'U3', 'turnID': 'T2', 'participantID': 'P02', 'date': '2018-03-23', 'time': '14:35:00', 'utterance': '33만원'}, {'utteranceID': 'U4', 'turnID': 'T2', 'participantID': 'P02', 'date': '2018-03-23', 'time': '14:37:00', 'utterance': '#@시스템#사진#'}, {'utteranceID': 'U5', 'turnID': 'T2', 'participantID': 'P02', 'date': '2018-03-23', 'time': '14:37:00', 'utterance': '여기는17마넝'}, {'utteranceID': 'U6', 'turnID': 'T3', 'participantID': 'P01', 'date': '2018-03-23', 'time': '14:41:00', 'utterance': '밑에가 훨 싸네요'}, {'utteranceID': 'U7', 'turnID': 'T3', 'participantID': 'P01', 'date': '2018-03-23', 'time': '14:41:00', 'utterance': '저기도 가깝지 않아요!!'}, {'utteranceID': 'U8', 'turnID': 'T3', 'participantID': 'P01', 'date': '2018-03-23', 'time': '14:42:00', 'utterance': '하루 17만원 인거죠?'}, {'utteranceID': 'U9', 'turnID': 'T3', 'participantID': 'P01', 'date': '2018-03-23', 'time': '14:42:00', 'utterance': '밑에꺼 해욧!!'}, {'utteranceID': 'U10', 'turnID': 'T4', 'participantID': 'P02', 'date': '2018-03-23', 'time': '14:42:00', 'utterance': '응응 두번째보다는 멀지망 가까운편'}, {'utteranceID': 'U11', 'turnID': 'T4', 'participantID': 'P02', 'date': '2018-03-23', 'time': '14:42:00', 'utterance': '오키'}, {'utteranceID': 'U12', 'turnID': 'T4', 'participantID': 'P02', 'date': '2018-03-23', 'time': '14:44:00', 'utterance': '#@시스템#사진#'}, {'utteranceID': 'U13', 'turnID': 'T5', 'participantID': 'P01', 'date': '2018-03-23', 'time': '14:44:00', 'utterance': '두근두근해요'}, {'utteranceID': 'U14', 'turnID': 'T6', 'participantID': 'P02', 'date': '2018-03-23', 'time': '14:44:00', 'utterance': 'Durls여긴별론가위치가??'}, {'utteranceID': 'U15', 'turnID': 'T6', 'participantID': 'P02', 'date': '2018-03-23', 'time': '14:44:00', 'utterance': '시설이 여기가 더 좋다구하가지구'}, {'utteranceID': 'U16', 'turnID': 'T7', 'participantID': 'P01', 'date': '2018-03-23', 'time': '14:44:00', 'utterance': '오진짜요?'}, {'utteranceID': 'U17', 'turnID': 'T7', 'participantID': 'P01', 'date': '2018-03-23', 'time': '14:45:00', 'utterance': '얼마 차이도 안나는데 괜찮을거 같아요'}]}\n",
      "{'header': {'dialogueInfo': {'dialogueID': 'd4e37616-81a7-5953-a0c9-595e08e82dfb', 'numberOfParticipants': 2, 'numberOfUtterances': 19, 'numberOfTurns': 12, 'type': '일상 대화', 'topic': '상거래(쇼핑)'}, 'participantsInfo': [{'participantID': 'P01', 'gender': '여성', 'age': '20대', 'residentialProvince': '인천광역시'}, {'participantID': 'P02', 'gender': '여성', 'age': '20대', 'residentialProvince': '인천광역시'}]}, 'body': [{'utteranceID': 'U1', 'turnID': 'T1', 'participantID': 'P01', 'date': '2020-10-16', 'time': '16:06:00', 'utterance': '나 결저앻ㅆ어'}, {'utteranceID': 'U2', 'turnID': 'T2', 'participantID': 'P02', 'date': '2020-10-16', 'time': '16:06:00', 'utterance': '모를?'}, {'utteranceID': 'U3', 'turnID': 'T3', 'participantID': 'P01', 'date': '2020-10-16', 'time': '16:06:00', 'utterance': '나 요번달에 돈 남으면'}, {'utteranceID': 'U4', 'turnID': 'T3', 'participantID': 'P01', 'date': '2020-10-16', 'time': '16:06:00', 'utterance': '현질할꺼야'}, {'utteranceID': 'U5', 'turnID': 'T4', 'participantID': 'P02', 'date': '2020-10-16', 'time': '16:06:00', 'utterance': '우와'}, {'utteranceID': 'U6', 'turnID': 'T4', 'participantID': 'P02', 'date': '2020-10-16', 'time': '16:06:00', 'utterance': '뭐 사게?'}, {'utteranceID': 'U7', 'turnID': 'T5', 'participantID': 'P01', 'date': '2020-10-16', 'time': '16:06:00', 'utterance': '이걸루'}, {'utteranceID': 'U8', 'turnID': 'T6', 'participantID': 'P02', 'date': '2020-10-16', 'time': '16:06:00', 'utterance': '나도 이걸루 사고싶어 ㅠㅠㅠ'}, {'utteranceID': 'U9', 'turnID': 'T7', 'participantID': 'P01', 'date': '2020-10-16', 'time': '16:07:00', 'utterance': '근데 일단 공작마리드?'}, {'utteranceID': 'U10', 'turnID': 'T7', 'participantID': 'P01', 'date': '2020-10-16', 'time': '16:07:00', 'utterance': '안나오면'}, {'utteranceID': 'U11', 'turnID': 'T7', 'participantID': 'P01', 'date': '2020-10-16', 'time': '16:07:00', 'utterance': '다음시즌 버틴다'}, {'utteranceID': 'U12', 'turnID': 'T7', 'participantID': 'P01', 'date': '2020-10-16', 'time': '16:07:00', 'utterance': '존버존버'}, {'utteranceID': 'U13', 'turnID': 'T8', 'participantID': 'P02', 'date': '2020-10-16', 'time': '16:07:00', 'utterance': '황금 마차.그것두'}, {'utteranceID': 'U14', 'turnID': 'T8', 'participantID': 'P02', 'date': '2020-10-16', 'time': '16:07:00', 'utterance': '난 이걸루...'}, {'utteranceID': 'U15', 'turnID': 'T9', 'participantID': 'P01', 'date': '2020-10-16', 'time': '16:07:00', 'utterance': '존버존버'}, {'utteranceID': 'U16', 'turnID': 'T9', 'participantID': 'P01', 'date': '2020-10-16', 'time': '16:07:00', 'utterance': '너도 마리드 안나오면 포기햇'}, {'utteranceID': 'U17', 'turnID': 'T10', 'participantID': 'P02', 'date': '2020-10-16', 'time': '16:07:00', 'utterance': '그거 사ㄱ 봉황?'}, {'utteranceID': 'U18', 'turnID': 'T11', 'participantID': 'P01', 'date': '2020-10-16', 'time': '16:07:00', 'utterance': '엉엉'}, {'utteranceID': 'U19', 'turnID': 'T12', 'participantID': 'P02', 'date': '2020-10-16', 'time': '16:07:00', 'utterance': 'ㅠㅠ'}]}\n",
      "{'header': {'dialogueInfo': {'dialogueID': '3bfeabf9-4fdb-57c8-86a0-a7c414ea314d', 'numberOfParticipants': 2, 'numberOfUtterances': 9, 'numberOfTurns': 7, 'type': '일상 대화', 'topic': '상거래(쇼핑)'}, 'participantsInfo': [{'participantID': 'P01', 'gender': '남성', 'age': '20대', 'residentialProvince': '경기도'}, {'participantID': 'P02', 'gender': '여성', 'age': '20대', 'residentialProvince': '경기도'}]}, 'body': [{'utteranceID': 'U1', 'turnID': 'T1', 'participantID': 'P01', 'date': '2020-12-09', 'time': '16:42:00', 'utterance': '베라드실?'}, {'utteranceID': 'U2', 'turnID': 'T1', 'participantID': 'P01', 'date': '2020-12-09', 'time': '16:42:00', 'utterance': '3000원\\xa0할인하는ㄷ'}, {'utteranceID': 'U3', 'turnID': 'T2', 'participantID': 'P02', 'date': '2020-12-09', 'time': '16:46:00', 'utterance': '얼만디'}, {'utteranceID': 'U4', 'turnID': 'T3', 'participantID': 'P01', 'date': '2020-12-09', 'time': '16:47:00', 'utterance': '정가에서'}, {'utteranceID': 'U5', 'turnID': 'T3', 'participantID': 'P01', 'date': '2020-12-09', 'time': '16:47:00', 'utterance': '3천원빼면됌'}, {'utteranceID': 'U6', 'turnID': 'T4', 'participantID': 'P02', 'date': '2020-12-09', 'time': '16:47:00', 'utterance': '베달?'}, {'utteranceID': 'U7', 'turnID': 'T5', 'participantID': 'P01', 'date': '2020-12-09', 'time': '16:47:00', 'utterance': '배달비무료'}, {'utteranceID': 'U8', 'turnID': 'T6', 'participantID': 'P02', 'date': '2020-12-09', 'time': '16:47:00', 'utterance': '배달?'}, {'utteranceID': 'U9', 'turnID': 'T7', 'participantID': 'P01', 'date': '2020-12-09', 'time': '16:47:00', 'utterance': 'ㅇㅇ'}]}\n"
     ]
    },
    {
     "ename": "KeyboardInterrupt",
     "evalue": "Interrupted by user",
     "output_type": "error",
     "traceback": [
      "\u001b[0;31m---------------------------------------------------------------------------\u001b[0m",
      "\u001b[0;31mKeyboardInterrupt\u001b[0m                         Traceback (most recent call last)",
      "Cell \u001b[0;32mIn[10], line 6\u001b[0m\n\u001b[1;32m      4\u001b[0m \u001b[39mfor\u001b[39;00m file_data \u001b[39min\u001b[39;00m file_datas[\u001b[39m'\u001b[39m\u001b[39mdata\u001b[39m\u001b[39m'\u001b[39m]:\n\u001b[1;32m      5\u001b[0m     \u001b[39mprint\u001b[39m(file_data)\n\u001b[0;32m----> 6\u001b[0m     \u001b[39minput\u001b[39;49m()\n",
      "File \u001b[0;32m~/Library/Python/3.9/lib/python/site-packages/ipykernel/kernelbase.py:1187\u001b[0m, in \u001b[0;36mKernel.raw_input\u001b[0;34m(self, prompt)\u001b[0m\n\u001b[1;32m   1185\u001b[0m     msg \u001b[39m=\u001b[39m \u001b[39m\"\u001b[39m\u001b[39mraw_input was called, but this frontend does not support input requests.\u001b[39m\u001b[39m\"\u001b[39m\n\u001b[1;32m   1186\u001b[0m     \u001b[39mraise\u001b[39;00m StdinNotImplementedError(msg)\n\u001b[0;32m-> 1187\u001b[0m \u001b[39mreturn\u001b[39;00m \u001b[39mself\u001b[39;49m\u001b[39m.\u001b[39;49m_input_request(\n\u001b[1;32m   1188\u001b[0m     \u001b[39mstr\u001b[39;49m(prompt),\n\u001b[1;32m   1189\u001b[0m     \u001b[39mself\u001b[39;49m\u001b[39m.\u001b[39;49m_parent_ident[\u001b[39m\"\u001b[39;49m\u001b[39mshell\u001b[39;49m\u001b[39m\"\u001b[39;49m],\n\u001b[1;32m   1190\u001b[0m     \u001b[39mself\u001b[39;49m\u001b[39m.\u001b[39;49mget_parent(\u001b[39m\"\u001b[39;49m\u001b[39mshell\u001b[39;49m\u001b[39m\"\u001b[39;49m),\n\u001b[1;32m   1191\u001b[0m     password\u001b[39m=\u001b[39;49m\u001b[39mFalse\u001b[39;49;00m,\n\u001b[1;32m   1192\u001b[0m )\n",
      "File \u001b[0;32m~/Library/Python/3.9/lib/python/site-packages/ipykernel/kernelbase.py:1230\u001b[0m, in \u001b[0;36mKernel._input_request\u001b[0;34m(self, prompt, ident, parent, password)\u001b[0m\n\u001b[1;32m   1227\u001b[0m \u001b[39mexcept\u001b[39;00m \u001b[39mKeyboardInterrupt\u001b[39;00m:\n\u001b[1;32m   1228\u001b[0m     \u001b[39m# re-raise KeyboardInterrupt, to truncate traceback\u001b[39;00m\n\u001b[1;32m   1229\u001b[0m     msg \u001b[39m=\u001b[39m \u001b[39m\"\u001b[39m\u001b[39mInterrupted by user\u001b[39m\u001b[39m\"\u001b[39m\n\u001b[0;32m-> 1230\u001b[0m     \u001b[39mraise\u001b[39;00m \u001b[39mKeyboardInterrupt\u001b[39;00m(msg) \u001b[39mfrom\u001b[39;00m \u001b[39mNone\u001b[39m\n\u001b[1;32m   1231\u001b[0m \u001b[39mexcept\u001b[39;00m \u001b[39mException\u001b[39;00m:\n\u001b[1;32m   1232\u001b[0m     \u001b[39mself\u001b[39m\u001b[39m.\u001b[39mlog\u001b[39m.\u001b[39mwarning(\u001b[39m\"\u001b[39m\u001b[39mInvalid Message:\u001b[39m\u001b[39m\"\u001b[39m, exc_info\u001b[39m=\u001b[39m\u001b[39mTrue\u001b[39;00m)\n",
      "\u001b[0;31mKeyboardInterrupt\u001b[0m: Interrupted by user"
     ]
    }
   ],
   "source": [
    "for train_data in train_datas:\n",
    "    with open(f'{train_file_path}{train_data}')as file:\n",
    "        file_datas = json.load(file)\n",
    "        for file_data in file_datas['data']:\n",
    "            print(file_data)\n",
    "            input()\n"
   ]
  },
  {
   "cell_type": "code",
   "execution_count": null,
   "metadata": {},
   "outputs": [],
   "source": []
  },
  {
   "cell_type": "code",
   "execution_count": null,
   "metadata": {},
   "outputs": [],
   "source": []
  },
  {
   "cell_type": "code",
   "execution_count": null,
   "metadata": {},
   "outputs": [],
   "source": []
  }
 ],
 "metadata": {
  "kernelspec": {
   "display_name": "Python 3",
   "language": "python",
   "name": "python3"
  },
  "language_info": {
   "codemirror_mode": {
    "name": "ipython",
    "version": 3
   },
   "file_extension": ".py",
   "mimetype": "text/x-python",
   "name": "python",
   "nbconvert_exporter": "python",
   "pygments_lexer": "ipython3",
   "version": "3.9.6 (default, Oct 18 2022, 12:41:40) \n[Clang 14.0.0 (clang-1400.0.29.202)]"
  },
  "orig_nbformat": 4,
  "vscode": {
   "interpreter": {
    "hash": "31f2aee4e71d21fbe5cf8b01ff0e069b9275f58929596ceb00d14d90e3e16cd6"
   }
  }
 },
 "nbformat": 4,
 "nbformat_minor": 2
}
